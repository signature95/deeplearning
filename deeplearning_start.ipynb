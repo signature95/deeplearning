{
 "cells": [
  {
   "cell_type": "markdown",
   "id": "b31d427a",
   "metadata": {},
   "source": [
    "# 딥러닝 맛보기"
   ]
  },
  {
   "cell_type": "code",
   "execution_count": 8,
   "id": "da2905f3",
   "metadata": {},
   "outputs": [],
   "source": [
    "import tensorflow as tf\n",
    "import numpy as np\n",
    "import matplotlib.pyplot as plt\n",
    "import pandas as pd\n",
    "from tensorflow.keras.models import Sequential\n",
    "from tensorflow.keras.layers import Dense\n",
    "\n",
    "#data = pd.read_csv('dataset/ThoraricSurgery(1).csv', encoding = 'utf-8')"
   ]
  },
  {
   "cell_type": "code",
   "execution_count": 9,
   "id": "1c0d173b",
   "metadata": {},
   "outputs": [],
   "source": [
    "X = data = np.linspace(1,2,200)\n",
    "y = X*4 + np.random.randn(200)*0.3"
   ]
  },
  {
   "cell_type": "code",
   "execution_count": 10,
   "id": "b46ab89e",
   "metadata": {},
   "outputs": [
    {
     "name": "stdout",
     "output_type": "stream",
     "text": [
      "Epoch 1/30\n",
      "200/200 [==============================] - 1s 1ms/step - loss: 1.2804 - mse: 1.2804\n",
      "Epoch 2/30\n",
      "200/200 [==============================] - 0s 1ms/step - loss: 0.1637 - mse: 0.1637\n",
      "Epoch 3/30\n",
      "200/200 [==============================] - 0s 2ms/step - loss: 0.1519 - mse: 0.1519\n",
      "Epoch 4/30\n",
      "200/200 [==============================] - 0s 1ms/step - loss: 0.1401 - mse: 0.1401\n",
      "Epoch 5/30\n",
      "200/200 [==============================] - 0s 842us/step - loss: 0.1327 - mse: 0.1327\n",
      "Epoch 6/30\n",
      "200/200 [==============================] - 0s 1ms/step - loss: 0.1283 - mse: 0.1283\n",
      "Epoch 7/30\n",
      "200/200 [==============================] - 0s 871us/step - loss: 0.1245 - mse: 0.1245\n",
      "Epoch 8/30\n",
      "200/200 [==============================] - 0s 775us/step - loss: 0.1186 - mse: 0.1186\n",
      "Epoch 9/30\n",
      "200/200 [==============================] - 0s 849us/step - loss: 0.1145 - mse: 0.1145\n",
      "Epoch 10/30\n",
      "200/200 [==============================] - 0s 814us/step - loss: 0.1136 - mse: 0.1136\n",
      "Epoch 11/30\n",
      "200/200 [==============================] - 0s 1ms/step - loss: 0.1123 - mse: 0.1123\n",
      "Epoch 12/30\n",
      "200/200 [==============================] - 0s 2ms/step - loss: 0.1075 - mse: 0.1075A: 0s - loss: 0.1099 - mse: 0.10\n",
      "Epoch 13/30\n",
      "200/200 [==============================] - 0s 2ms/step - loss: 0.1062 - mse: 0.1062\n",
      "Epoch 14/30\n",
      "200/200 [==============================] - 0s 1ms/step - loss: 0.1086 - mse: 0.1086\n",
      "Epoch 15/30\n",
      "200/200 [==============================] - 0s 1ms/step - loss: 0.1061 - mse: 0.1061\n",
      "Epoch 16/30\n",
      "200/200 [==============================] - 0s 982us/step - loss: 0.1044 - mse: 0.1044\n",
      "Epoch 17/30\n",
      "200/200 [==============================] - 0s 930us/step - loss: 0.1052 - mse: 0.1052\n",
      "Epoch 18/30\n",
      "200/200 [==============================] - 0s 1ms/step - loss: 0.1025 - mse: 0.1025\n",
      "Epoch 19/30\n",
      "200/200 [==============================] - 0s 1ms/step - loss: 0.1037 - mse: 0.1037\n",
      "Epoch 20/30\n",
      "200/200 [==============================] - 0s 996us/step - loss: 0.1025 - mse: 0.1025\n",
      "Epoch 21/30\n",
      "200/200 [==============================] - 0s 932us/step - loss: 0.1028 - mse: 0.1028\n",
      "Epoch 22/30\n",
      "200/200 [==============================] - 0s 2ms/step - loss: 0.1012 - mse: 0.1012\n",
      "Epoch 23/30\n",
      "200/200 [==============================] - 0s 2ms/step - loss: 0.1032 - mse: 0.1032\n",
      "Epoch 24/30\n",
      "200/200 [==============================] - 0s 1ms/step - loss: 0.1020 - mse: 0.1020\n",
      "Epoch 25/30\n",
      "200/200 [==============================] - 0s 1ms/step - loss: 0.1027 - mse: 0.1027\n",
      "Epoch 26/30\n",
      "200/200 [==============================] - 0s 1ms/step - loss: 0.1022 - mse: 0.1022\n",
      "Epoch 27/30\n",
      "200/200 [==============================] - 0s 946us/step - loss: 0.0978 - mse: 0.0978\n",
      "Epoch 28/30\n",
      "200/200 [==============================] - 0s 1ms/step - loss: 0.1033 - mse: 0.1033\n",
      "Epoch 29/30\n",
      "200/200 [==============================] - 0s 1ms/step - loss: 0.1013 - mse: 0.1013\n",
      "Epoch 30/30\n",
      "200/200 [==============================] - 0s 1ms/step - loss: 0.1033 - mse: 0.1033\n"
     ]
    }
   ],
   "source": [
    "model = Sequential()\n",
    "model.add(Dense(1, input_dim=1, activation = 'linear'))\n",
    "\n",
    "# tf.keras.models.Sequential, tf.keras.layer.Dense로 작성해야하지만 from import로 생략함\n",
    "\n",
    "model.compile(loss = 'mse', optimizer = 'sgd', metrics = ['mse'])\n",
    "model.fit(X, y, batch_size = 1, epochs = 30)\n",
    "\n",
    "predict = model.predict(data)"
   ]
  },
  {
   "cell_type": "code",
   "execution_count": 11,
   "id": "a8abad19",
   "metadata": {
    "scrolled": true
   },
   "outputs": [
    {
     "data": {
      "image/png": "[encoded data removed]",
      "text/plain": [
       "<Figure size 432x288 with 1 Axes>"
      ]
     },
     "metadata": {
      "needs_background": "light"
     },
     "output_type": "display_data"
    }
   ],
   "source": [
    "plt.plot(data, predict, 'b', data, y, 'k.')\n",
    "plt.show()"
   ]
  },
  {
   "cell_type": "markdown",
   "id": "55b8b5fe",
   "metadata": {},
   "source": [
    "# 단순 선형 회귀 (simple linear regression)"
   ]
  },
  {
   "cell_type": "code",
   "execution_count": null,
   "id": "d69d164e",
   "metadata": {},
   "outputs": [],
   "source": []
  }
 ],
 "metadata": {
  "kernelspec": {
   "display_name": "Python 3",
   "language": "python",
   "name": "python3"
  },
  "language_info": {
   "codemirror_mode": {
    "name": "ipython",
    "version": 3
   },
   "file_extension": ".py",
   "mimetype": "text/x-python",
   "name": "python",
   "nbconvert_exporter": "python",
   "pygments_lexer": "ipython3",
   "version": "3.8.8"
  }
 },
 "nbformat": 4,
 "nbformat_minor": 5
}
