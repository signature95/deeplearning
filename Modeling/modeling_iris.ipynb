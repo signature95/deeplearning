{
 "cells": [
  {
   "cell_type": "markdown",
   "source": [
    "# 다중분류 문제"
   ],
   "metadata": {}
  },
  {
   "cell_type": "markdown",
   "source": [
    "## 1. 데이터 불러오기 (iris)"
   ],
   "metadata": {}
  },
  {
   "cell_type": "code",
   "execution_count": 30,
   "source": [
    "import pandas as pd\n",
    "import tensorflow as tf\n",
    "from sklearn.datasets import load_iris\n",
    "from tensorflow.keras.models import Sequential\n",
    "from tensorflow.keras.layers import Dense\n",
    "from tensorflow.keras.utils import to_categorical"
   ],
   "outputs": [],
   "metadata": {}
  },
  {
   "cell_type": "code",
   "execution_count": 19,
   "source": [
    "data_arr = load_iris()\n",
    "# print(data_arr.data)\n",
    "print(data_arr.target_names)\n",
    "print(data_arr.target)"
   ],
   "outputs": [
    {
     "output_type": "stream",
     "name": "stdout",
     "text": [
      "['setosa' 'versicolor' 'virginica']\n",
      "[0 0 0 0 0 0 0 0 0 0 0 0 0 0 0 0 0 0 0 0 0 0 0 0 0 0 0 0 0 0 0 0 0 0 0 0 0\n",
      " 0 0 0 0 0 0 0 0 0 0 0 0 0 1 1 1 1 1 1 1 1 1 1 1 1 1 1 1 1 1 1 1 1 1 1 1 1\n",
      " 1 1 1 1 1 1 1 1 1 1 1 1 1 1 1 1 1 1 1 1 1 1 1 1 1 1 2 2 2 2 2 2 2 2 2 2 2\n",
      " 2 2 2 2 2 2 2 2 2 2 2 2 2 2 2 2 2 2 2 2 2 2 2 2 2 2 2 2 2 2 2 2 2 2 2 2 2\n",
      " 2 2]\n"
     ]
    }
   ],
   "metadata": {}
  },
  {
   "cell_type": "code",
   "execution_count": 51,
   "source": [
    "X = data_arr.data.astype('float64')\n",
    "y = data_arr.target\n",
    "\n",
    "# 카테고리 변수로 변환\n",
    "y_encod = to_categorical(y)\n",
    "\n",
    "\n",
    "print('feature로 설정한 X\\n',X.shape)\n",
    "print('target으로 지정한 y \\n', y.shape, '\\n카테고리 변수로 변환한 후 y \\n',y_encod.shape)"
   ],
   "outputs": [
    {
     "output_type": "stream",
     "name": "stdout",
     "text": [
      "feature로 설정한 X\n",
      " (150, 4)\n",
      "target으로 지정한 y \n",
      " (150,) \n",
      "카테고리 변수로 변환한 후 y \n",
      " (150, 3)\n"
     ]
    }
   ],
   "metadata": {}
  },
  {
   "cell_type": "code",
   "execution_count": 43,
   "source": [
    "model = Sequential()\n",
    "model.add(Dense(16, activation= 'relu', input_dim = 4))\n",
    "model.add(Dense(3, activation= 'softmax'))\n",
    "model.compile(loss='categorical_crossentropy', optimizer = 'adam', metrics = ['accuracy', 'mse'])"
   ],
   "outputs": [],
   "metadata": {}
  },
  {
   "cell_type": "code",
   "execution_count": 45,
   "source": [
    "model.fit(X, y_encod, epochs= 50, batch_size=1)"
   ],
   "outputs": [
    {
     "output_type": "stream",
     "name": "stdout",
     "text": [
      "Epoch 1/50\n",
      "150/150 [==============================] - 1s 2ms/step - loss: 0.3962 - accuracy: 0.8467 - mse: 0.0813\n",
      "Epoch 2/50\n",
      "150/150 [==============================] - 0s 2ms/step - loss: 0.3436 - accuracy: 0.8933 - mse: 0.0674\n",
      "Epoch 3/50\n",
      "150/150 [==============================] - 0s 2ms/step - loss: 0.3115 - accuracy: 0.9533 - mse: 0.0584\n",
      "Epoch 4/50\n",
      "150/150 [==============================] - 0s 2ms/step - loss: 0.2979 - accuracy: 0.9133 - mse: 0.0561\n",
      "Epoch 5/50\n",
      "150/150 [==============================] - 0s 2ms/step - loss: 0.2710 - accuracy: 0.9400 - mse: 0.0490\n",
      "Epoch 6/50\n",
      "150/150 [==============================] - 0s 2ms/step - loss: 0.2619 - accuracy: 0.9333 - mse: 0.0479\n",
      "Epoch 7/50\n",
      "150/150 [==============================] - 0s 2ms/step - loss: 0.2404 - accuracy: 0.9400 - mse: 0.0431\n",
      "Epoch 8/50\n",
      "150/150 [==============================] - 0s 3ms/step - loss: 0.2271 - accuracy: 0.9533 - mse: 0.0392\n",
      "Epoch 9/50\n",
      "150/150 [==============================] - 0s 3ms/step - loss: 0.2133 - accuracy: 0.9467 - mse: 0.0362\n",
      "Epoch 10/50\n",
      "150/150 [==============================] - 0s 3ms/step - loss: 0.2032 - accuracy: 0.9600 - mse: 0.0348\n",
      "Epoch 11/50\n",
      "150/150 [==============================] - 0s 2ms/step - loss: 0.1916 - accuracy: 0.9733 - mse: 0.0322\n",
      "Epoch 12/50\n",
      "150/150 [==============================] - 0s 3ms/step - loss: 0.1927 - accuracy: 0.9533 - mse: 0.0336\n",
      "Epoch 13/50\n",
      "150/150 [==============================] - 0s 2ms/step - loss: 0.1734 - accuracy: 0.9667 - mse: 0.0288\n",
      "Epoch 14/50\n",
      "150/150 [==============================] - 0s 3ms/step - loss: 0.1762 - accuracy: 0.9467 - mse: 0.0303\n",
      "Epoch 15/50\n",
      "150/150 [==============================] - 0s 2ms/step - loss: 0.1627 - accuracy: 0.9600 - mse: 0.0274\n",
      "Epoch 16/50\n",
      "150/150 [==============================] - 0s 3ms/step - loss: 0.1549 - accuracy: 0.9667 - mse: 0.0256\n",
      "Epoch 17/50\n",
      "150/150 [==============================] - 0s 2ms/step - loss: 0.1495 - accuracy: 0.9600 - mse: 0.0251\n",
      "Epoch 18/50\n",
      "150/150 [==============================] - 0s 2ms/step - loss: 0.1468 - accuracy: 0.9733 - mse: 0.0244\n",
      "Epoch 19/50\n",
      "150/150 [==============================] - 0s 2ms/step - loss: 0.1412 - accuracy: 0.9667 - mse: 0.0232\n",
      "Epoch 20/50\n",
      "150/150 [==============================] - 0s 2ms/step - loss: 0.1373 - accuracy: 0.9733 - mse: 0.0230\n",
      "Epoch 21/50\n",
      "150/150 [==============================] - 0s 2ms/step - loss: 0.1367 - accuracy: 0.9667 - mse: 0.0239\n",
      "Epoch 22/50\n",
      "150/150 [==============================] - 0s 2ms/step - loss: 0.1309 - accuracy: 0.9600 - mse: 0.0222\n",
      "Epoch 23/50\n",
      "150/150 [==============================] - 0s 3ms/step - loss: 0.1236 - accuracy: 0.9733 - mse: 0.0206\n",
      "Epoch 24/50\n",
      "150/150 [==============================] - 0s 2ms/step - loss: 0.1226 - accuracy: 0.9733 - mse: 0.0210\n",
      "Epoch 25/50\n",
      "150/150 [==============================] - 0s 3ms/step - loss: 0.1155 - accuracy: 0.9667 - mse: 0.0190\n",
      "Epoch 26/50\n",
      "150/150 [==============================] - 0s 2ms/step - loss: 0.1139 - accuracy: 0.9733 - mse: 0.0190\n",
      "Epoch 27/50\n",
      "150/150 [==============================] - 0s 2ms/step - loss: 0.1128 - accuracy: 0.9733 - mse: 0.0190\n",
      "Epoch 28/50\n",
      "150/150 [==============================] - 0s 3ms/step - loss: 0.1040 - accuracy: 0.9800 - mse: 0.0169\n",
      "Epoch 29/50\n",
      "150/150 [==============================] - 0s 2ms/step - loss: 0.1103 - accuracy: 0.9733 - mse: 0.0193\n",
      "Epoch 30/50\n",
      "150/150 [==============================] - 0s 2ms/step - loss: 0.1105 - accuracy: 0.9600 - mse: 0.0202\n",
      "Epoch 31/50\n",
      "150/150 [==============================] - 0s 3ms/step - loss: 0.1086 - accuracy: 0.9733 - mse: 0.0193\n",
      "Epoch 32/50\n",
      "150/150 [==============================] - 0s 2ms/step - loss: 0.1024 - accuracy: 0.9733 - mse: 0.0174\n",
      "Epoch 33/50\n",
      "150/150 [==============================] - 0s 2ms/step - loss: 0.1032 - accuracy: 0.9733 - mse: 0.0180\n",
      "Epoch 34/50\n",
      "150/150 [==============================] - 0s 2ms/step - loss: 0.0987 - accuracy: 0.9733 - mse: 0.0176\n",
      "Epoch 35/50\n",
      "150/150 [==============================] - 0s 2ms/step - loss: 0.0971 - accuracy: 0.9600 - mse: 0.0181\n",
      "Epoch 36/50\n",
      "150/150 [==============================] - 0s 2ms/step - loss: 0.0995 - accuracy: 0.9667 - mse: 0.0180\n",
      "Epoch 37/50\n",
      "150/150 [==============================] - 0s 2ms/step - loss: 0.0934 - accuracy: 0.9667 - mse: 0.0166\n",
      "Epoch 38/50\n",
      "150/150 [==============================] - 0s 2ms/step - loss: 0.0967 - accuracy: 0.9600 - mse: 0.0175\n",
      "Epoch 39/50\n",
      "150/150 [==============================] - 0s 2ms/step - loss: 0.0895 - accuracy: 0.9800 - mse: 0.0154\n",
      "Epoch 40/50\n",
      "150/150 [==============================] - 0s 3ms/step - loss: 0.0907 - accuracy: 0.9800 - mse: 0.0160\n",
      "Epoch 41/50\n",
      "150/150 [==============================] - 0s 2ms/step - loss: 0.0863 - accuracy: 0.9733 - mse: 0.0154\n",
      "Epoch 42/50\n",
      "150/150 [==============================] - 0s 3ms/step - loss: 0.0884 - accuracy: 0.9733 - mse: 0.0151\n",
      "Epoch 43/50\n",
      "150/150 [==============================] - 0s 2ms/step - loss: 0.0814 - accuracy: 0.9800 - mse: 0.0139\n",
      "Epoch 44/50\n",
      "150/150 [==============================] - 0s 2ms/step - loss: 0.0855 - accuracy: 0.9867 - mse: 0.0148\n",
      "Epoch 45/50\n",
      "150/150 [==============================] - 0s 2ms/step - loss: 0.0837 - accuracy: 0.9800 - mse: 0.0146\n",
      "Epoch 46/50\n",
      "150/150 [==============================] - 0s 3ms/step - loss: 0.0907 - accuracy: 0.9800 - mse: 0.0167\n",
      "Epoch 47/50\n",
      "150/150 [==============================] - 0s 2ms/step - loss: 0.0866 - accuracy: 0.9800 - mse: 0.0154\n",
      "Epoch 48/50\n",
      "150/150 [==============================] - 0s 2ms/step - loss: 0.0785 - accuracy: 0.9667 - mse: 0.0144\n",
      "Epoch 49/50\n",
      "150/150 [==============================] - 0s 2ms/step - loss: 0.0754 - accuracy: 0.9800 - mse: 0.0133\n",
      "Epoch 50/50\n",
      "150/150 [==============================] - 0s 2ms/step - loss: 0.0899 - accuracy: 0.9733 - mse: 0.0154\n"
     ]
    },
    {
     "output_type": "execute_result",
     "data": {
      "text/plain": [
       "<keras.callbacks.History at 0x7f9934f58d00>"
      ]
     },
     "metadata": {},
     "execution_count": 45
    }
   ],
   "metadata": {}
  },
  {
   "cell_type": "code",
   "execution_count": null,
   "source": [],
   "outputs": [],
   "metadata": {}
  }
 ],
 "metadata": {
  "orig_nbformat": 4,
  "language_info": {
   "name": "python",
   "version": "3.9.6",
   "mimetype": "text/x-python",
   "codemirror_mode": {
    "name": "ipython",
    "version": 3
   },
   "pygments_lexer": "ipython3",
   "nbconvert_exporter": "python",
   "file_extension": ".py"
  },
  "kernelspec": {
   "name": "python3",
   "display_name": "Python 3.9.6 64-bit ('pythonProject4': conda)"
  },
  "interpreter": {
   "hash": "0e532115abeb172ccd0a16786b6fed74bf6c6a181c5a849b853367ec4b51c499"
  }
 },
 "nbformat": 4,
 "nbformat_minor": 2
}